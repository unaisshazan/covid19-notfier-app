{
 "cells": [
  {
   "cell_type": "code",
   "execution_count": null,
   "metadata": {},
   "outputs": [],
   "source": [
    "#install libraries"
   ]
  },
  {
   "cell_type": "code",
   "execution_count": null,
   "metadata": {},
   "outputs": [],
   "source": [
    "pip install requests"
   ]
  },
  {
   "cell_type": "code",
   "execution_count": null,
   "metadata": {},
   "outputs": [],
   "source": [
    "pip install beautifulsoup4"
   ]
  },
  {
   "cell_type": "code",
   "execution_count": null,
   "metadata": {},
   "outputs": [],
   "source": [
    "pip install win10toast"
   ]
  },
  {
   "cell_type": "code",
   "execution_count": null,
   "metadata": {},
   "outputs": [],
   "source": []
  },
  {
   "cell_type": "code",
   "execution_count": 17,
   "metadata": {},
   "outputs": [
    {
     "data": {
      "text/plain": [
       "True"
      ]
     },
     "execution_count": 17,
     "metadata": {},
     "output_type": "execute_result"
    }
   ],
   "source": [
    "from urllib.request import urlopen,Request\n",
    "from bs4 import BeautifulSoup as bs\n",
    "from win10toast import ToastNotifier\n",
    "#header \n",
    "header={\"User-agent\" :\"Mozilla\"}\n",
    "#apidata or website\n",
    "req = Request(\"https://www.worldometers.info/coronavirus/country/china/\" , headers=header)\n",
    "html=urlopen(req)\n",
    "obj=bs(html)\n",
    "#new/activecase using web scraping\n",
    "new_case = obj.find(\"li\",{\"class\":\"news_li\"}).strong.text.split()[0]\n",
    "#deaths using web scraping\n",
    "death=list(obj.find(\"li\", {\"class\":\"news_li\"}).strong.next_siblings)[1].text.split()[0]\n",
    "#starting notifier\n",
    "notifier = ToastNotifier()\n",
    "#printing message\n",
    "message = \"New Cases : \" + new_case  + \"\\nDeath : \" + death\n",
    "#toast notifier\n",
    "notifier.show_toast(title=\"Covid 19 Notification\" , msg=message,duration=15)"
   ]
  },
  {
   "cell_type": "code",
   "execution_count": null,
   "metadata": {},
   "outputs": [],
   "source": []
  }
 ],
 "metadata": {
  "kernelspec": {
   "display_name": "Python 3",
   "language": "python",
   "name": "python3"
  },
  "language_info": {
   "codemirror_mode": {
    "name": "ipython",
    "version": 3
   },
   "file_extension": ".py",
   "mimetype": "text/x-python",
   "name": "python",
   "nbconvert_exporter": "python",
   "pygments_lexer": "ipython3",
   "version": "3.7.4"
  }
 },
 "nbformat": 4,
 "nbformat_minor": 2
}
